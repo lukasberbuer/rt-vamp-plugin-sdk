{
  "cells": [
    {
      "cell_type": "markdown",
      "metadata": {},
      "source": [
        "\n# Compute features\n"
      ]
    },
    {
      "cell_type": "code",
      "execution_count": null,
      "metadata": {
        "collapsed": false
      },
      "outputs": [],
      "source": [
        "import os\n\nimport matplotlib.pyplot as plt\nimport numpy as np\nimport librosa\nimport librosa.display\nimport rtvamp\n\n# set VAMP_PATH to rtvamp package dir to find example plugins\nos.environ[\"VAMP_PATH\"] = os.path.dirname(rtvamp.__file__)"
      ]
    },
    {
      "cell_type": "markdown",
      "metadata": {},
      "source": [
        "## Load sample audio data\n\n"
      ]
    },
    {
      "cell_type": "code",
      "execution_count": null,
      "metadata": {
        "collapsed": false
      },
      "outputs": [],
      "source": [
        "y, sr = librosa.load(librosa.ex(\"trumpet\"))"
      ]
    },
    {
      "cell_type": "markdown",
      "metadata": {},
      "source": [
        "## Compute features with rtvamp\n\n"
      ]
    },
    {
      "cell_type": "code",
      "execution_count": null,
      "metadata": {
        "collapsed": false
      },
      "outputs": [],
      "source": [
        "t_rms, y_rms = rtvamp.compute_features(y, sr, plugin=\"example-plugin:rms\", blocksize=256)\nt_sro, y_sro = rtvamp.compute_features(y, sr, plugin=\"example-plugin:spectralrolloff\", parameter={\"rolloff\": 0.5})"
      ]
    },
    {
      "cell_type": "markdown",
      "metadata": {},
      "source": [
        "## Plot features with spectrogram\n\n"
      ]
    },
    {
      "cell_type": "code",
      "execution_count": null,
      "metadata": {
        "collapsed": false
      },
      "outputs": [],
      "source": [
        "fig, ax = plt.subplots(nrows=3, ncols=1, sharex=True, tight_layout=True)\nD = librosa.amplitude_to_db(np.abs(librosa.stft(y)), ref=np.max)\nlibrosa.display.specshow(D, x_axis=\"time\", y_axis=\"linear\", sr=sr, ax=ax[0])\nax[0].set(title=\"STFT\")\n\nax[1].plot(t_rms, y_rms[0])\nax[1].set(title=\"RMS\")\n\nax[2].plot(t_sro, y_sro[0])\nax[2].set(title=\"Spectral Rolloff\")\n\nplt.show()"
      ]
    }
  ],
  "metadata": {
    "kernelspec": {
      "display_name": "Python 3",
      "language": "python",
      "name": "python3"
    },
    "language_info": {
      "codemirror_mode": {
        "name": "ipython",
        "version": 3
      },
      "file_extension": ".py",
      "mimetype": "text/x-python",
      "name": "python",
      "nbconvert_exporter": "python",
      "pygments_lexer": "ipython3",
      "version": "3.10.13"
    }
  },
  "nbformat": 4,
  "nbformat_minor": 0
}