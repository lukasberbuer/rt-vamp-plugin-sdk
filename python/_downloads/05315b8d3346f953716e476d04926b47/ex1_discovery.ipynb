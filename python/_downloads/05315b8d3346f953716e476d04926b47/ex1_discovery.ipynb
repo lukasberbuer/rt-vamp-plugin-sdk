{
  "cells": [
    {
      "cell_type": "markdown",
      "metadata": {},
      "source": [
        "\n# Plugin discovery and browsing\n"
      ]
    },
    {
      "cell_type": "code",
      "execution_count": null,
      "metadata": {
        "collapsed": false
      },
      "outputs": [],
      "source": [
        "import os\nfrom pathlib import Path\nfrom pprint import pprint\n\nimport rtvamp\n\n# set VAMP_PATH to rtvamp package dir to find example plugins\nos.environ[\"VAMP_PATH\"] = os.path.dirname(rtvamp.__file__)"
      ]
    },
    {
      "cell_type": "markdown",
      "metadata": {},
      "source": [
        "## Browse available libraries and plugins\nList libraries:\n\n"
      ]
    },
    {
      "cell_type": "code",
      "execution_count": null,
      "metadata": {
        "collapsed": false
      },
      "outputs": [],
      "source": [
        "rtvamp.list_libraries()"
      ]
    },
    {
      "cell_type": "markdown",
      "metadata": {},
      "source": [
        "List plugins:\n\n"
      ]
    },
    {
      "cell_type": "code",
      "execution_count": null,
      "metadata": {
        "collapsed": false
      },
      "outputs": [],
      "source": [
        "rtvamp.list_plugins()"
      ]
    },
    {
      "cell_type": "markdown",
      "metadata": {},
      "source": [
        "List plugins in current working directory:\n\n"
      ]
    },
    {
      "cell_type": "code",
      "execution_count": null,
      "metadata": {
        "collapsed": false
      },
      "outputs": [],
      "source": [
        "rtvamp.list_plugins(paths=[Path.cwd()])"
      ]
    },
    {
      "cell_type": "markdown",
      "metadata": {},
      "source": [
        "Get metadata and descriptors from plugin\n\n"
      ]
    },
    {
      "cell_type": "code",
      "execution_count": null,
      "metadata": {
        "collapsed": false
      },
      "outputs": [],
      "source": [
        "for plugin in rtvamp.list_plugins():\n    try:\n        metadata = rtvamp.get_plugin_metadata(plugin)\n        pprint(metadata)\n    except:\n        print(f\"Could not get metadata from plugin {plugin}\")"
      ]
    }
  ],
  "metadata": {
    "kernelspec": {
      "display_name": "Python 3",
      "language": "python",
      "name": "python3"
    },
    "language_info": {
      "codemirror_mode": {
        "name": "ipython",
        "version": 3
      },
      "file_extension": ".py",
      "mimetype": "text/x-python",
      "name": "python",
      "nbconvert_exporter": "python",
      "pygments_lexer": "ipython3",
      "version": "3.10.16"
    }
  },
  "nbformat": 4,
  "nbformat_minor": 0
}